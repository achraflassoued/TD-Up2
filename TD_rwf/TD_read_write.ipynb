{
  "nbformat": 4,
  "nbformat_minor": 0,
  "metadata": {
    "colab": {
      "name": "TD_1.ipynb",
      "provenance": [],
      "collapsed_sections": [],
      "toc_visible": true
    },
    "kernelspec": {
      "name": "python3",
      "display_name": "Python 3"
    }
  },
  "cells": [
    {
      "cell_type": "markdown",
      "metadata": {
        "id": "ocvIoR-mFya7",
        "colab_type": "text"
      },
      "source": [
        "# **Twitter TD 1**\n",
        "\n",
        "Dates: 2020\n",
        "\n"
      ]
    },
    {
      "cell_type": "markdown",
      "metadata": {
        "id": "Ii6SJIJS_Afs",
        "colab_type": "text"
      },
      "source": [
        "\n",
        "This is a basic experience to explain reservoir sampling with social edges.\n",
        "\n",
        "Into the folder you have a data file with $390  000$ edges from a Twitter capture on CNN.\n",
        "\n",
        "Reminder : \n",
        "\n",
        "Reservoir sampling is a family of randomized algorithms for randomly choosing a sample of $k$ items from a list $S$ containing $n$ items, where $n$ is either a very large or unknown number. \n",
        "Typically $n$ is large enough that the list doesn't fit into main memory."
      ]
    },
    {
      "cell_type": "markdown",
      "metadata": {
        "id": "O3j0nwGjGZBo",
        "colab_type": "text"
      },
      "source": [
        "## Initial Setup\n",
        "\n",
        "- **Run \"Setup\" below first.**\n",
        "\n",
        "    - This will load libraries and download some resources that we'll use throughout the tutorial.\n",
        "\n",
        "    - You will see a message reading \"Done with setup!\" when this process completes.\n"
      ]
    },
    {
      "cell_type": "code",
      "metadata": {
        "id": "GKVEnPi34qj4",
        "colab_type": "code",
        "colab": {}
      },
      "source": [
        "#@title Setup (click the \"run\" button to the left) {display-mode: \"form\"}\n",
        "\n",
        "## Setup ##\n",
        "\n",
        "# imports\n",
        "\n",
        "# built-in Python libraries\n",
        "# -------------------------\n",
        "\n",
        "import random\n",
        "import csv\n",
        "import os\n",
        "\n",
        "if not os.path.exists(\"data_390000_edges.csv\"):\n",
        "    !wget https://raw.githubusercontent.com/GuillaumeVIMONT/TD_UP2_EEJSI/master/TD_0/data_390000_edges.csv\n",
        "else:\n",
        "    print(\"Data already loaded.\")\n",
        "\n",
        "\n",
        "def read_edge_from_file(file_input):\n",
        "\twith open(file_input) as csvfile:\n",
        "\t\tedge_list = []\n",
        "\t\treader = csv.DictReader(csvfile)\n",
        "\t\tfor row in reader:\n",
        "\t\t\tedge = (row['Source'], row['Target'])\n",
        "\t\t\tedge_list.append(edge)\n",
        "\treturn edge_list\n",
        "\n",
        "def write_edge_reservoir(edge_reservoir, k):\n",
        "\tf = open(\"data_%s_edges.csv\" %k, \"w\")\n",
        "\theader_csv = \"Source, Target\"\n",
        "\tf.write(header_csv +\"\\n\")\n",
        "\tfor i in edge_reservoir:\n",
        "\t\tf.write(\"%s, %s\\n\" %i)\n",
        "\tf.close()\n",
        "\n",
        "print(\"Done with setup!\")\n",
        "print(\"If you'd like, you can click the (X) button to the left to clear this output.\")\n"
      ],
      "execution_count": null,
      "outputs": []
    },
    {
      "cell_type": "code",
      "metadata": {
        "id": "vQSw2Ri7-AdL",
        "colab_type": "code",
        "colab": {}
      },
      "source": [
        "k = int(input(\"Please enter reservoir size : \"))\n",
        "\n",
        "edge_list = read_edge_from_file(\"data_390000_edges.csv\")\n",
        "sample = []\n",
        "for index, edge in enumerate(edge_list):\n",
        "    if index < k:\n",
        "        sample.append(edge)\n",
        "    else:\n",
        "        j = random.randint(0, index)\n",
        "        if j < k:\n",
        "           sample[j] = edge\n",
        "\n",
        "write_edge_reservoir(sample, k)"
      ],
      "execution_count": null,
      "outputs": []
    },
    {
      "cell_type": "markdown",
      "metadata": {
        "id": "dKyRqr-eELnK",
        "colab_type": "text"
      },
      "source": [
        "After running this program, you can run gephi to play with the network graph.\n",
        "For more informations about Gephi, please read this page http://www.up2.fr/index.php?n=Main.Gephi"
      ]
    }
  ]
}